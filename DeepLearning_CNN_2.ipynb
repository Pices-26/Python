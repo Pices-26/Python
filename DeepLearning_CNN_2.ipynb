{
 "cells": [
  {
   "cell_type": "code",
   "execution_count": 1,
   "metadata": {},
   "outputs": [
    {
     "name": "stdout",
     "output_type": "stream",
     "text": [
      "WARNING:tensorflow:From C:\\Users\\marce\\Anaconda3\\envs\\test\\lib\\site-packages\\tensorflow\\python\\ops\\resource_variable_ops.py:435: colocate_with (from tensorflow.python.framework.ops) is deprecated and will be removed in a future version.\n",
      "Instructions for updating:\n",
      "Colocations handled automatically by placer.\n",
      "Train on 22451 samples, validate on 2495 samples\n",
      "WARNING:tensorflow:From C:\\Users\\marce\\Anaconda3\\envs\\test\\lib\\site-packages\\tensorflow\\python\\ops\\math_ops.py:3066: to_int32 (from tensorflow.python.ops.math_ops) is deprecated and will be removed in a future version.\n",
      "Instructions for updating:\n",
      "Use tf.cast instead.\n",
      "Epoch 1/10\n",
      "22451/22451 [==============================] - 318s 14ms/sample - loss: 0.6430 - acc: 0.6211 - val_loss: 0.6024 - val_acc: 0.7070\n",
      "Epoch 2/10\n",
      "22451/22451 [==============================] - 345s 15ms/sample - loss: 0.5011 - acc: 0.7578 - val_loss: 0.5217 - val_acc: 0.7479\n",
      "Epoch 3/10\n",
      "22451/22451 [==============================] - 319s 14ms/sample - loss: 0.4129 - acc: 0.8077 - val_loss: 0.4549 - val_acc: 0.7852\n",
      "Epoch 4/10\n",
      "22451/22451 [==============================] - 297s 13ms/sample - loss: 0.3116 - acc: 0.8643 - val_loss: 0.4965 - val_acc: 0.7812\n",
      "Epoch 5/10\n",
      "22451/22451 [==============================] - 302s 13ms/sample - loss: 0.1958 - acc: 0.9212 - val_loss: 0.5546 - val_acc: 0.7840\n",
      "Epoch 6/10\n",
      "22451/22451 [==============================] - 300s 13ms/sample - loss: 0.0966 - acc: 0.9657 - val_loss: 0.6911 - val_acc: 0.7868\n",
      "Epoch 7/10\n",
      "22451/22451 [==============================] - 299s 13ms/sample - loss: 0.0417 - acc: 0.9880 - val_loss: 0.8138 - val_acc: 0.7892\n",
      "Epoch 8/10\n",
      "22451/22451 [==============================] - 299s 13ms/sample - loss: 0.0245 - acc: 0.9934 - val_loss: 1.1594 - val_acc: 0.7836\n",
      "Epoch 9/10\n",
      "22451/22451 [==============================] - 336s 15ms/sample - loss: 0.0235 - acc: 0.9929 - val_loss: 1.0394 - val_acc: 0.7784\n",
      "Epoch 10/10\n",
      "22451/22451 [==============================] - 338s 15ms/sample - loss: 0.0196 - acc: 0.9941 - val_loss: 1.1893 - val_acc: 0.7880\n"
     ]
    },
    {
     "data": {
      "text/plain": [
       "<tensorflow.python.keras.callbacks.History at 0x1e5180768d0>"
      ]
     },
     "execution_count": 1,
     "metadata": {},
     "output_type": "execute_result"
    }
   ],
   "source": [
    "import tensorflow as tf\n",
    "from tensorflow.keras.models import Sequential\n",
    "from tensorflow.keras.layers import Dense, Dropout, Activation, Flatten, Conv2D, MaxPooling2D\n",
    "import pickle\n",
    "import time\n",
    "from tensorflow.keras.callbacks import TensorBoard\n",
    "\n",
    "NAME = \"Cats-vs-dogs-CNN\" # naming our model\n",
    "\n",
    "tensorboard = TensorBoard(log_dir=\"logs/{}\".format(NAME)) # saving our model into log directory\n",
    "\n",
    "gpu_options = tf.GPUOptions(per_process_gpu_memory_fraction=0.333)\n",
    "sess = tf.Session(config=tf.ConfigProto(gpu_options=gpu_options))\n",
    "\n",
    "X = pickle.load(open('X.pickle', 'rb'))\n",
    "y = pickle.load(open('y.pickle', 'rb'))\n",
    "\n",
    "#normalizing\n",
    "X = X/255.0\n",
    "\n",
    "#model\n",
    "model = Sequential()\n",
    "model.add(Conv2D(64, (3,3), input_shape = X.shape[1:]))\n",
    "model.add(Activation('relu'))\n",
    "model.add((MaxPooling2D(pool_size=(2,2))))\n",
    "\n",
    "model.add(Conv2D(64, (3,3)))\n",
    "model.add(Activation('relu'))\n",
    "model.add((MaxPooling2D(pool_size=(2,2))))\n",
    "\n",
    "model.add(Flatten()) # converts 3D feature maps to 1D vectors\n",
    "model.add(Dense(64))\n",
    "model.add(Activation('relu'))\n",
    "\n",
    "model.add(Dense(1))\n",
    "model.add(Activation('sigmoid'))\n",
    "\n",
    "model.compile(loss='binary_crossentropy',\n",
    "             optimizer = 'adam',\n",
    "              metrics = ['accuracy']\n",
    "             )\n",
    "\n",
    "model.fit(X, y, batch_size = 32,epochs=10, validation_split=0.3, callbacks=[tensorboard])\n"
   ]
  },
  {
   "cell_type": "code",
   "execution_count": null,
   "metadata": {},
   "outputs": [],
   "source": []
  }
 ],
 "metadata": {
  "kernelspec": {
   "display_name": "Python 3",
   "language": "python",
   "name": "python3"
  },
  "language_info": {
   "codemirror_mode": {
    "name": "ipython",
    "version": 3
   },
   "file_extension": ".py",
   "mimetype": "text/x-python",
   "name": "python",
   "nbconvert_exporter": "python",
   "pygments_lexer": "ipython3",
   "version": "3.6.8"
  }
 },
 "nbformat": 4,
 "nbformat_minor": 2
}
